{
 "cells": [
  {
   "cell_type": "markdown",
   "metadata": {
    "slideshow": {
     "slide_type": "slide"
    }
   },
   "source": [
    "<h1>CS4618: Artificial Intelligence I</h1>\n",
    "<h1>Accuracy Estimation</h1>\n",
    "<h2>\n",
    "    Derek Bridge<br>\n",
    "    School of Computer Science and Information Technology<br>\n",
    "    University College Cork\n",
    "</h2>"
   ]
  },
  {
   "cell_type": "markdown",
   "metadata": {
    "slideshow": {
     "slide_type": "skip"
    }
   },
   "source": [
    "<h1>Initialization</h1>\n",
    "$\\newcommand{\\Set}[1]{\\{#1\\}}$ \n",
    "$\\newcommand{\\Tuple}[1]{\\langle#1\\rangle}$ \n",
    "$\\newcommand{\\v}[1]{\\pmb{#1}}$ \n",
    "$\\newcommand{\\cv}[1]{\\begin{bmatrix}#1\\end{bmatrix}}$ \n",
    "$\\newcommand{\\rv}[1]{[#1]}$ \n",
    "$\\DeclareMathOperator{\\argmax}{arg\\,max}$ \n",
    "$\\DeclareMathOperator{\\argmin}{arg\\,min}$ \n",
    "$\\DeclareMathOperator{\\dist}{dist}$\n",
    "$\\DeclareMathOperator{\\abs}{abs}$"
   ]
  },
  {
   "cell_type": "code",
   "execution_count": 1,
   "metadata": {
    "slideshow": {
     "slide_type": "skip"
    }
   },
   "outputs": [],
   "source": [
    "%reload_ext autoreload\n",
    "%autoreload 2\n",
    "%matplotlib inline"
   ]
  },
  {
   "cell_type": "code",
   "execution_count": 2,
   "metadata": {
    "slideshow": {
     "slide_type": "skip"
    }
   },
   "outputs": [],
   "source": [
    "import pandas as pd\n",
    "import numpy as np\n",
    "import matplotlib.pyplot as plt\n",
    "\n",
    "from sklearn.model_selection import train_test_split\n",
    "from sklearn.model_selection import GridSearchCV\n",
    "from sklearn.model_selection import cross_validate\n",
    "from sklearn.model_selection import cross_val_score\n",
    "\n",
    "from sklearn.metrics import accuracy_score\n",
    "from sklearn.metrics import confusion_matrix, ConfusionMatrixDisplay\n",
    "\n",
    "from sklearn.compose import ColumnTransformer\n",
    "from sklearn.pipeline import Pipeline\n",
    "\n",
    "from sklearn.preprocessing import LabelEncoder\n",
    "from sklearn.preprocessing import StandardScaler\n",
    "\n",
    "from sklearn.dummy import DummyClassifier\n",
    "from sklearn.neighbors import KNeighborsClassifier\n",
    "from sklearn.linear_model import LogisticRegression\n",
    "\n",
    "from sklearn.datasets import load_iris"
   ]
  },
  {
   "cell_type": "code",
   "execution_count": 3,
   "metadata": {},
   "outputs": [],
   "source": [
    "import os\n",
    "if 'google.colab' in str(get_ipython()):\n",
    "  from google.colab import drive\n",
    "  drive.mount('/content/drive')\n",
    "  base_dir = \"./drive/My Drive/Colab Notebooks/\" # You may need to change this, depending on where your notebooks are on Google Drive\n",
    "else:\n",
    "  base_dir = \".\" "
   ]
  },
  {
   "cell_type": "markdown",
   "metadata": {},
   "source": [
    "<h1>Error Estimation for Classifiers</h1>\n",
    "<ul>\n",
    "    <li>Recall we want to know how well a model will do in practice, once we start to use it to make predictions.\n",
    "        <ul>\n",
    "            <li>For regression, this is called <b>error estimation</b>. \n",
    "            </li>\n",
    "            <li>For classification, you can call it 'error estimation', but we also call it\n",
    "                <b>accuracy estimation</b>.\n",
    "            </li>\n",
    "        </ul>\n",
    "    </li>\n",
    "    <li>We discussed the importance of doing error estimation on a separate test set.</li>\n",
    "    <li>We also saw that the performance measure we use for error estimation might be different\n",
    "        from the loss function we used when training the model.\n",
    "        <ul>\n",
    "            <li>For regression, the loss function is often MSE, but we might use MAE (or RMSE or the $R^2$ score)\n",
    "                for error estimation.\n",
    "            </li>\n",
    "           <li>For classification, the loss function is often cross-entropy (see later lecture), but we might use\n",
    "               <b>accuracy</b> for error estimation.\n",
    "            </li>\n",
    "        </ul>\n",
    "    </li>\n",
    "</ul>"
   ]
  },
  {
   "cell_type": "markdown",
   "metadata": {},
   "source": [
    "<h1>Accuracy</h1>\n",
    "<ul> \n",
    "    <li>Accuracy is the obvious performance measure for a classifier: the ratio of the number of correct \n",
    "        predictions to the number of predictions made.\n",
    "    </li>\n",
    "    <li>If you like notation:\n",
    "        $$\\frac{1}{|T|}\\sum_{i = 1}^{|T|} I(\\hat{y}^{(i)} = y^{(i)})$$\n",
    "        where $T$ is the set of examples on which you are testing the classifier and hence $|T|$ is \n",
    "        the number of examples, and $I(p)$ is the indicator function that outputs 1\n",
    "        if predicate $p$ is true and zero otherwise.\n",
    "    </li>\n",
    "    <li>There are, however, numerous other measures that we could use instead, or as well. If we had more time,\n",
    "        we might study precision, recall, F1, Area Under the Curve (AUC), and lots more.\n",
    "        However, beware of 'fishing expeditions':\n",
    "        <ul>\n",
    "            <li>You should choose a measure or two in advance of running any experiments &mdash; \n",
    "                the measure(s) that you think are best-aligned to your business problem.\n",
    "            </li>\n",
    "            <li>When there are many measures, there is a temptation to calculate them all and then get excited when\n",
    "                the learner performs well on one of them.\n",
    "            </li>\n",
    "        </ul>\n",
    "    </li>\n",
    "</ul>"
   ]
  },
  {
   "cell_type": "markdown",
   "metadata": {},
   "source": [
    "<h2>The Limitations of Classification Accuracy</h2>\n",
    "<ul>\n",
    "    <li>Accuracy summarizes overall performance in a single figure, which is a good thing.</li>\n",
    "    <li>But it has at least three problems:   \n",
    "        <ol>\n",
    "            <li>\n",
    "                Giving only a single figure hides information about how the classifier performs on the individual \n",
    "                classes.\n",
    "                <ul>\n",
    "                    <li>This problem becomes more acute when the costs of different kinds of misclassification \n",
    "                        are not equal.\n",
    "                    </li>\n",
    "                    <li>For example, in email classification, it is more serious to misclassify ham as spam.\n",
    "                    </li>\n",
    "                    <li>In principle, we could assign costs to the different kinds of mis-classification and define\n",
    "                        a cost-sensitive variant of classification accuracy, but, in practice, it's difficult, if\n",
    "                        not impossible, to come up with the costs; for example, how much worse is it to \n",
    "                        classify ham as spam than spam as ham?\n",
    "                    </li>\n",
    "                </ul>\n",
    "            </li>\n",
    "            <li>\n",
    "                Classification accuracy is also best when the distribution of classes in $T$ is reasonably\n",
    "                balanced.\n",
    "                <ul>\n",
    "                    <li>\n",
    "                        If, on the other hand, some of the classes are more prevalent than others, then they \n",
    "                        tend to bias the measure, e.g. if you do well on the more prevalent classes, then you get \n",
    "                        a higher score overall.\n",
    "                    </li>\n",
    "                </ul>\n",
    "            </li>\n",
    "            <li>Accuracy does not take into account correct classifications from mere chance.\n",
    "                <ul>\n",
    "                    <li>There are performance measures that <em>correct for chance</em>\n",
    "                        (but we won't look at them!)\n",
    "                    </li>\n",
    "                </ul>\n",
    "            </li>\n",
    "        </ol>       \n",
    "    </li>\n",
    "    <li>Computing a <b>confusion matrix</b> can help with the first problem.</li>\n",
    "    <li>Comparing with a <b>majority-class classifier</b> can help with the second and third problems.</li>\n",
    "</ul>"
   ]
  },
  {
   "cell_type": "markdown",
   "metadata": {},
   "source": [
    "<h1>The Confusion Matrix</h1>\n",
    "<ul>\n",
    "    <li>\n",
    "        The <b>confusion matrix</b> $CM$ for a classifier is a square $|C| \\times |C|$ matrix.\n",
    "        <ul>\n",
    "            <li>In a confusion matrix, a cell $CM[i, j]$\n",
    "                contains the number of test examples of class $i$ that were classified as class $j$.\n",
    "            </li>\n",
    "        </ul>\n",
    "    </li>\n",
    "    <li>\n",
    "        Here are examples of confusion matrices for a binary classifier and a multiclass classifier:\n",
    "        <div>\n",
    "            <table style=\"float: left; \">\n",
    "                <tr>\n",
    "                    <th colspan=\"2\" rowspan=\"2\"></th>\n",
    "                    <th colspan=\"2\">Predicted Class</th>\n",
    "                </tr>\n",
    "                <tr>\n",
    "                    <th style=\"border-bottom: 1px solid black\">0</th><th style=\"border-bottom: 1px solid black\">1</th>\n",
    "                </tr>\n",
    "                <tr>\n",
    "                    <th rowspan=\"2\">Actual Class</th><th style=\"border-right: 1px solid black\">0</th><td>25</td><td>10</td>\n",
    "                </tr>\n",
    "                <tr>\n",
    "                    <th style=\"border-right: 1px solid black\">1</th><td>20</td><td>45</td>\n",
    "                </tr>\n",
    "            </table>\n",
    "            <table>\n",
    "                <tr>\n",
    "                    <th colspan=\"2\" rowspan=\"2\"></th><th colspan=\"3\">Predicted Class</th>\n",
    "                </tr>\n",
    "                <tr>\n",
    "                    <th style=\"border-bottom: 1px solid black\">0</th><th style=\"border-bottom: 1px solid black\">1</th><th style=\"border-bottom: 1px solid black\">2</th>\n",
    "                </tr>\n",
    "                <tr>\n",
    "                    <th rowspan=\"3\">Actual Class</th><th style=\"border-right: 1px solid black\">0</th><td>10</td><td>0</td><td>15</td>\n",
    "                </tr>\n",
    "                <tr>\n",
    "                    <th style=\"border-right: 1px solid black\">1</th><td>5</td><td>30</td><td>10</td>\n",
    "                </tr>\n",
    "                <tr>\n",
    "                    <th style=\"border-right: 1px solid black\">2</th><td>5</td><td>5</td><td>20</td>\n",
    "                </tr>\n",
    "            </table>\n",
    "        </div>\n",
    "    </li>\n",
    "    <li>Let's assume a test set $T$.\n",
    "        <ul>\n",
    "            <li>\n",
    "                The sum of all entries in $CM$ equals $|T|$.\n",
    "            </li>\n",
    "            <li>\n",
    "                The sum of the entries in <em>row</em> $i$ is\n",
    "                the number of examples in $T$ that have class $i$.\n",
    "            </li>\n",
    "            <li>\n",
    "                The sum of the entries in <em>column</em> $j$ is\n",
    "                the number of examples in $T$ that the classifier assigns to class $j$.\n",
    "            </li>\n",
    "            <li>\n",
    "                Entries on the main diagonal, $CM[i,i]$, are correctly classified, and so $\\sum_i CM[i,i]$ is\n",
    "                the total number of correctly classified examples.\n",
    "            </li>\n",
    "            <li>\n",
    "                Entries off the main diagonal, $CM[i, j], i\\neq j$, are incorrectly classified, and so \n",
    "                $\\sum_i\\sum_{j, j \\neq i} CM[i,j]$ is the total number of incorrectly classified examples.\n",
    "            </li>\n",
    "        </ul>\n",
    "    </li>\n",
    "    <li>So, in a word, what does this calculate?\n",
    "        $$\\frac{\\sum_i CM[i,i]}{|T|}$$\n",
    "    </li>\n",
    "</ul>"
   ]
  },
  {
   "cell_type": "markdown",
   "metadata": {},
   "source": [
    "<h2>Class exercise</h2>\n",
    "<ul>\n",
    "    <li>Classifier A and classifier B have the same classification accuracy (0.6) but which classifier would you use?</li>\n",
    "</ul>\n",
    "        <table style=\"float: left\">\n",
    "            <tr>\n",
    "                <th colspan=\"2\" rowspan=\"2\">Classifier A</th><th colspan=\"2\">Predicted Class</th>\n",
    "            </tr>\n",
    "            <tr>\n",
    "                <th style=\"border-bottom: 1px solid black\">Benign</th><th style=\"border-bottom: 1px solid black\">Malignant</th>\n",
    "            </tr>\n",
    "            <tr>\n",
    "                <th rowspan=\"2\">Actual Class</th><th style=\"border-right: 1px solid black\">Benign</th><td>400</td><td>100</td>\n",
    "            </tr>\n",
    "            <tr>\n",
    "                <th style=\"border-right: 1px solid black\">Malignant</th><td>300</td><td>200</td>\n",
    "            </tr>\n",
    "         </table>\n",
    "         <table>\n",
    "             <tr>\n",
    "                 <th colspan=\"2\" rowspan=\"2\">Classifier B</th><th colspan=\"2\">Predicted Class</th>\n",
    "             </tr>\n",
    "             <tr>\n",
    "                 <th style=\"border-bottom: 1px solid black\">Benign</th><th style=\"border-bottom: 1px solid black\">Malignant</th>\n",
    "             </tr>\n",
    "             <tr>\n",
    "                 <th rowspan=\"2\">Actual Class</th><th style=\"border-right: 1px solid black\">Benign</th><td>200</td><td>300</td>\n",
    "             </tr>\n",
    "             <tr>\n",
    "                 <th style=\"border-right: 1px solid black\">Malignant</th><td>100</td><td>400</td>\n",
    "             </tr>\n",
    "         </table>"
   ]
  },
  {
   "cell_type": "markdown",
   "metadata": {
    "slideshow": {
     "slide_type": "slide"
    }
   },
   "source": [
    "<h2>Confusion Matrices in scikit-learn</h2>\n",
    "<ul>\n",
    "    <li>scikit-learn can produce a confusion matrix:\n",
    "        <ul>\n",
    "            <li>call <code>confusion_matrix</code>.</li>\n",
    "        </ul>\n",
    "        An example comes later.\n",
    "    </li>\n",
    "</ul>"
   ]
  },
  {
   "cell_type": "markdown",
   "metadata": {
    "slideshow": {
     "slide_type": "slide"
    }
   },
   "source": [
    "<h1>Majority-Class Classifier</h1>\n",
    "<ul>\n",
    "    <li>\n",
    "        Consider $T$ that contains 950 positive examples and 50 negative examples.\n",
    "    </li>\n",
    "    <li>An extremely effective classifier in terms of accuracy for this $T$ is the so-called \n",
    "       <b>majority-class classifier</b>,\n",
    "       <ul>\n",
    "           <li>It <em>always</em> predicts the majority class.</li>\n",
    "       </ul>\n",
    "    <li>In this example, it predicts the positive class, and its accuracy is very high: 0.95.</li>\n",
    "    <li>But it isn't really a good classifier: it has no ability to discriminate between\n",
    "        positive and negative examples.\n",
    "    </li>\n",
    "    <li>Many people compare the accuracy of their classifier(s) against the \n",
    "        accuracy of the majority-class classifier to check that they are doing better\n",
    "        than this simple-minded <b>baseline</b>.\n",
    "        <ul>\n",
    "            <li>It is one way of partly overcoming the second and third problems on the earlier slide.</li>\n",
    "        </ul>\n",
    "    </li>\n",
    "</ul>"
   ]
  },
  {
   "cell_type": "markdown",
   "metadata": {},
   "source": [
    "<h2>Majority-class classifier in scikit-learn</h2>\n",
    "<ul>\n",
    "    <li>scikit-learn has a<code>DummyClassifier</code> class.</li>\n",
    "    <li>An example comes later.</li>\n",
    "</ul>"
   ]
  },
  {
   "cell_type": "markdown",
   "metadata": {
    "slideshow": {
     "slide_type": "slide"
    }
   },
   "source": [
    "<h2>Exercise</h2>\n",
    "<ul>\n",
    "    <li>The majority-class classifier is a 'baseline' that we can compare against when evaluating a classifier.</li>\n",
    "    <li>Propose a baseline that you can compare against when evaluating a regressor.</li>\n",
    "    <li>Is it in scikit-learn?</li>\n",
    "    <li>Why is the $R^2$ score relevant to this discussion?</li>\n",
    "</ul>"
   ]
  },
  {
   "cell_type": "markdown",
   "metadata": {
    "slideshow": {
     "slide_type": "slide"
    }
   },
   "source": [
    "<h1>Stratification</h1>\n",
    "<ul>\n",
    "    <li>Holdout (and many other methods) rely on <em>randomly</em>\n",
    "        partitioning a dataset into a training set and a validation set and/or a test set\n",
    "        <ul>\n",
    "            <li>We've discussed before that the split may be 'lucky' or 'unlucky', hence resampling methods\n",
    "                such as $k$-Fold Cross-Validation.\n",
    "            </li>\n",
    "        </ul>\n",
    "    </li>\n",
    "    <li>But there is an additional problem in the case of classification.</li>\n",
    "    <li>In the case of classification, the split might not reflect\n",
    "        the distribution of examples within the classes:\n",
    "        <ul>\n",
    "            <li>Examples of one class might be under-represented in the training set or test set.</li>\n",
    "            <li>Examples of one class might even be completely absent from the training set or test set.</li>\n",
    "        </ul>\n",
    "    </li>\n",
    "    <li><b>Stratification</b> is the solution to this: \n",
    "        <ul>\n",
    "            <li>In stratification, the proportion of examples of each class in the overall dataset is respected \n",
    "                in the partitioning into training and validation/test sets\n",
    "            </li>\n",
    "            <li>Here's pseudocode for <b>stratified holdout</b>. For simplicity, the pseudocode only \n",
    "                covers the case of binary classification:\n",
    "                <ul style=\"background: lightgrey\">\n",
    "                    <li>Divide the dataset into positive examples, $P$, and negative examples, $N$</li>\n",
    "                    <li>Randomly partition $P$ into $\\mathit{Train}_P$ and $\\mathit{Test}_P$</li>\n",
    "                    <li>Randomly partition $N$ into $\\mathit{Train}_N$ and $\\mathit{Test}_N$</li>\n",
    "                    <li>$\\mathit{Train} \\gets \\mathit{Train}_P \\cup \\mathit{Train}_N$</li>\n",
    "                    <li>$\\mathit{Test} \\gets \\mathit{Test}_P \\cup \\mathit{Test}_N$</li>\n",
    "                </ul>\n",
    "            </li>\n",
    "        </ul>\n",
    "    </li>\n",
    "    <li>Although this fixes the distribution with respect to the classes, you may still get 'lucky' or 'unlucky' \n",
    "        in other ways. So you will still want a large dataset for holdout. And if you don't have a large enough\n",
    "        dataset, then do the above multiple times, e.g. <b>Stratified \n",
    "        $k$-Fold Cross-Validation</b>.\n",
    "    </li>\n",
    "</ul>"
   ]
  },
  {
   "cell_type": "markdown",
   "metadata": {
    "slideshow": {
     "slide_type": "slide"
    }
   },
   "source": [
    "<h2>Stratification in scikit-learn</h2>\n",
    "<ul>\n",
    "    <li>For the <code>train_test_split</code> function, there is a <code>stratify</code> argument.</li>\n",
    "    <li>Corresponding to the <code>ShuffleSplit</code> class, there is a <code>StratfiedShuffleSplit</code>\n",
    "        class.\n",
    "    </li>\n",
    "    <li>Corresponding to the <code>KFold</code> class, there is a <code>StratifiedKFold</code> class.</li>\n",
    "    <li>If you use the shorthand for $k$-fold cross-validation (e.g. <code>cv=10</code>) then, for \n",
    "        classifiers, you will get stratified $k$-fold cross-validation.\n",
    "    </li>\n",
    "    <li>There are examples below.</li>\n",
    "</ul>"
   ]
  },
  {
   "cell_type": "markdown",
   "metadata": {},
   "source": [
    "<h1>Case Study: the CS1109 Dataset</h1>"
   ]
  },
  {
   "cell_type": "code",
   "execution_count": 4,
   "metadata": {},
   "outputs": [],
   "source": [
    "# Use pandas to read the CSV file into a DataFrame\n",
    "df = pd.read_csv(os.path.join(base_dir, \"../datasets/dataset_cs1109.csv\"))"
   ]
  },
  {
   "cell_type": "code",
   "execution_count": 5,
   "metadata": {},
   "outputs": [],
   "source": [
    "# Split off the test set: 20% of the dataset. Note the stratification\n",
    "dev_df, test_df = train_test_split(df, train_size=0.8, stratify=df[\"outcome\"], random_state=2)"
   ]
  },
  {
   "cell_type": "code",
   "execution_count": 6,
   "metadata": {},
   "outputs": [],
   "source": [
    "# The features\n",
    "features = [\"lect\", \"lab\", \"cao\"]"
   ]
  },
  {
   "cell_type": "code",
   "execution_count": 7,
   "metadata": {},
   "outputs": [],
   "source": [
    "# Create the preprocessor\n",
    "preprocessor = ColumnTransformer([\n",
    "        (\"scaler\", StandardScaler(), features)],\n",
    "        remainder=\"drop\")"
   ]
  },
  {
   "cell_type": "code",
   "execution_count": 8,
   "metadata": {},
   "outputs": [],
   "source": [
    "# Extract the features but leave as a DataFrame\n",
    "dev_X = dev_df[features]\n",
    "test_X = test_df[features]\n",
    "\n",
    "# Target values, encoded and converted to a 1D numpy array\n",
    "label_encoder = LabelEncoder()\n",
    "label_encoder.fit(df[\"outcome\"])\n",
    "dev_y = label_encoder.transform(dev_df[\"outcome\"])\n",
    "test_y = label_encoder.transform(test_df[\"outcome\"])"
   ]
  },
  {
   "cell_type": "code",
   "execution_count": 9,
   "metadata": {},
   "outputs": [
    {
     "data": {
      "text/plain": [
       "0.6086956521739131"
      ]
     },
     "execution_count": 9,
     "metadata": {},
     "output_type": "execute_result"
    }
   ],
   "source": [
    "# Let's see how a majority-class classifier performs.\n",
    "# This is our baseline. We need to do better than this!\n",
    "\n",
    "maj = DummyClassifier()\n",
    "maj.fit(dev_X, dev_y)\n",
    "accuracy_score(test_y, maj.predict(test_X))"
   ]
  },
  {
   "cell_type": "code",
   "execution_count": 10,
   "metadata": {},
   "outputs": [],
   "source": [
    "# In the next cell, note the use of scoring=\"accuracy\".\n",
    "# And note that cv=10 is automatically stratified k-fold cross-validation.\n",
    "\n",
    "# We'll just try kNN and LogisticRegression.\n",
    "# We could also do Logistic Regression with L1-regularization, Logistic Regression with \n",
    "# L2-regularization and any number of other classifiers to be found in scikit-learn."
   ]
  },
  {
   "cell_type": "code",
   "execution_count": 11,
   "metadata": {},
   "outputs": [
    {
     "data": {
      "text/plain": [
       "({'predictor__n_neighbors': 10}, np.float64(0.7584656084656084))"
      ]
     },
     "execution_count": 11,
     "metadata": {},
     "output_type": "execute_result"
    }
   ],
   "source": [
    "# Create a pipeline that combines the preprocessor with kNN\n",
    "knn = Pipeline([\n",
    "    (\"preprocessor\", preprocessor),\n",
    "    (\"predictor\", KNeighborsClassifier())])\n",
    "\n",
    "# Create a dictionary of hyperparameters for kNN\n",
    "knn_param_grid = {\"predictor__n_neighbors\": [1, 2, 3, 4, 5, 6, 7, 8, 9, 10]}\n",
    "\n",
    "# Create the grid search object which will find the best hyperparameter values based on validation error\n",
    "knn_gs = GridSearchCV(knn, knn_param_grid, scoring=\"accuracy\", cv=10, refit=True)\n",
    "\n",
    "# Run grid search by calling fit. It will also re-train on train+validation using the best parameters.\n",
    "knn_gs.fit(dev_X, dev_y)\n",
    "\n",
    "# Let's see how well we did\n",
    "knn_gs.best_params_, knn_gs.best_score_"
   ]
  },
  {
   "cell_type": "code",
   "execution_count": 12,
   "metadata": {},
   "outputs": [
    {
     "data": {
      "text/plain": [
       "np.float64(0.7808201058201057)"
      ]
     },
     "execution_count": 12,
     "metadata": {},
     "output_type": "execute_result"
    }
   ],
   "source": [
    "# Create a pipeline that combines the preprocessor with logistic regression\n",
    "logistic = Pipeline([\n",
    "    (\"preprocessor\", preprocessor),\n",
    "    (\"predictor\", LogisticRegression())])\n",
    "\n",
    "# Create the grid search object which will find the best hyperparameter values based on validation error\n",
    "np.mean(cross_val_score(logistic, dev_X, dev_y, scoring=\"accuracy\", cv=10))"
   ]
  },
  {
   "cell_type": "code",
   "execution_count": 13,
   "metadata": {},
   "outputs": [],
   "source": [
    "# Both are much better than the majority-class classifier.\n",
    "# But not much different from each other.\n",
    "# We can check for under/overfitting"
   ]
  },
  {
   "cell_type": "code",
   "execution_count": 14,
   "metadata": {},
   "outputs": [
    {
     "name": "stdout",
     "output_type": "stream",
     "text": [
      "Training accuracy:  0.7936535589845694\n",
      "Validation accuracy:  0.7584656084656084\n"
     ]
    }
   ],
   "source": [
    "knn.set_params(**knn_gs.best_params_) \n",
    "scores = cross_validate(knn, dev_X, dev_y, cv=10, \n",
    "                        scoring=\"accuracy\", return_train_score=True)\n",
    "print(\"Training accuracy: \", np.mean(scores[\"train_score\"]))\n",
    "print(\"Validation accuracy: \", np.mean(scores[\"test_score\"]))"
   ]
  },
  {
   "cell_type": "code",
   "execution_count": 15,
   "metadata": {},
   "outputs": [],
   "source": [
    "# knn may be overfitting a little. So we'll reject kNN.\n",
    "# The other one does not overfit (not shown).\n",
    "# So let's evaluate it on the test set."
   ]
  },
  {
   "cell_type": "code",
   "execution_count": 16,
   "metadata": {},
   "outputs": [
    {
     "data": {
      "text/plain": [
       "0.8115942028985508"
      ]
     },
     "execution_count": 16,
     "metadata": {},
     "output_type": "execute_result"
    }
   ],
   "source": [
    "# Re-train Logistic Regression on train+validation and test on the test set\n",
    "\n",
    "logistic.fit(dev_X, dev_y)\n",
    "accuracy_score(test_y, logistic.predict(test_X))"
   ]
  },
  {
   "cell_type": "code",
   "execution_count": 17,
   "metadata": {},
   "outputs": [
    {
     "data": {
      "image/png": "[encoded data removed]",
      "text/plain": [
       "<Figure size 640x480 with 2 Axes>"
      ]
     },
     "metadata": {},
     "output_type": "display_data"
    }
   ],
   "source": [
    "# If we care about one kind of error more than another, we can look at a confusion matrix\n",
    "\n",
    "cm = confusion_matrix(test_y, logistic.predict(test_X), labels=logistic.classes_)\n",
    "disp = ConfusionMatrixDisplay(confusion_matrix=cm, display_labels=logistic.classes_)\n",
    "disp.plot()\n",
    "plt.show()"
   ]
  },
  {
   "cell_type": "code",
   "execution_count": 18,
   "metadata": {},
   "outputs": [],
   "source": [
    "# Here Logistic Regression seems to predict better for people who pass.\n",
    "\n",
    "# Anyway, now decide whether to deploy.\n",
    "# If yes, then train on the entire dataset (not shown)."
   ]
  },
  {
   "cell_type": "markdown",
   "metadata": {
    "slideshow": {
     "slide_type": "slide"
    }
   },
   "source": [
    "<h1>Case Study: the Iris Dataset</h1>\n",
    "<ul>\n",
    "    <li>The famous Iris dataset was created by the even more (in)famous statistician, Ronald Fisher\n",
    "        (Fisher, R.A. \"The use of multiple measurements in taxonomic problems\", Annual Eugenics, 7, Part II, \n",
    "        179-188, 1936).\n",
    "    </li>\n",
    "    <li>It is available all over the web now, especially the following dataset repository:\n",
    "        <a href=\"https://archive.ics.uci.edu/ml/datasets/iris\">https://archive.ics.uci.edu/ml/datasets/iris</a>\n",
    "    </li>\n",
    "    <li>But, we don't need to download it. scikit-learn has a copy and a function to load it.</li>\n",
    "    <li>Details:\n",
    "        <ul>\n",
    "            <li>$m = 150$ examples: each one is a flower &mdash; in fact, an Iris.</li>\n",
    "            <li>$n = 4$ features: sepal length, sepal width, petal length and petal width (all in centimetres).</li>\n",
    "            <li>Three classes (different kinds of Iris): <i>Iris setosa</i>, <i>Iris versicolor</i> and\n",
    "                <i>Iris virginica</i>\n",
    "                <img src=\"images/irises.png\" />\n",
    "            </li>\n",
    "            <li>Big warning: \n",
    "                <ul>\n",
    "                    <li>In most versions, the dataset is sorted: 50 setosa then 50 versicolor then 50 virginica.</li>\n",
    "                    <li>So shuffling is important.</li>\n",
    "                </ul>\n",
    "            </li>\n",
    "        </ul>\n",
    "     </li>\n",
    "</ul>"
   ]
  },
  {
   "cell_type": "code",
   "execution_count": 19,
   "metadata": {},
   "outputs": [],
   "source": [
    "# Load the dataset (a dictionary) and get the features DataFrame and target values from the dictionary\n",
    "iris = load_iris(as_frame=True)\n",
    "df = iris.data\n",
    "y = iris.target\n",
    "\n",
    "# Shuffle the features and the target values in the same way\n",
    "idx = np.random.permutation(df.index)\n",
    "df.reindex(idx)\n",
    "y.reindex(idx)\n",
    "df.reset_index(drop=True, inplace=True)\n",
    "y.reset_index(drop=True, inplace=True)"
   ]
  },
  {
   "cell_type": "code",
   "execution_count": 20,
   "metadata": {},
   "outputs": [
    {
     "data": {
      "text/plain": [
       "Index(['sepal length (cm)', 'sepal width (cm)', 'petal length (cm)',\n",
       "       'petal width (cm)'],\n",
       "      dtype='object')"
      ]
     },
     "execution_count": 20,
     "metadata": {},
     "output_type": "execute_result"
    }
   ],
   "source": [
    "df.columns"
   ]
  },
  {
   "cell_type": "code",
   "execution_count": 21,
   "metadata": {},
   "outputs": [
    {
     "name": "stdout",
     "output_type": "stream",
     "text": [
      "<class 'pandas.core.frame.DataFrame'>\n",
      "RangeIndex: 150 entries, 0 to 149\n",
      "Data columns (total 4 columns):\n",
      " #   Column             Non-Null Count  Dtype  \n",
      "---  ------             --------------  -----  \n",
      " 0   sepal length (cm)  150 non-null    float64\n",
      " 1   sepal width (cm)   150 non-null    float64\n",
      " 2   petal length (cm)  150 non-null    float64\n",
      " 3   petal width (cm)   150 non-null    float64\n",
      "dtypes: float64(4)\n",
      "memory usage: 4.8 KB\n"
     ]
    }
   ],
   "source": [
    "# Check for nulls\n",
    "df.info()"
   ]
  },
  {
   "cell_type": "code",
   "execution_count": 22,
   "metadata": {},
   "outputs": [
    {
     "data": {
      "text/html": [
       "<div>\n",
       "<style scoped>\n",
       "    .dataframe tbody tr th:only-of-type {\n",
       "        vertical-align: middle;\n",
       "    }\n",
       "\n",
       "    .dataframe tbody tr th {\n",
       "        vertical-align: top;\n",
       "    }\n",
       "\n",
       "    .dataframe thead th {\n",
       "        text-align: right;\n",
       "    }\n",
       "</style>\n",
       "<table border=\"1\" class=\"dataframe\">\n",
       "  <thead>\n",
       "    <tr style=\"text-align: right;\">\n",
       "      <th></th>\n",
       "      <th>sepal length (cm)</th>\n",
       "      <th>sepal width (cm)</th>\n",
       "      <th>petal length (cm)</th>\n",
       "      <th>petal width (cm)</th>\n",
       "    </tr>\n",
       "  </thead>\n",
       "  <tbody>\n",
       "    <tr>\n",
       "      <th>count</th>\n",
       "      <td>150.000000</td>\n",
       "      <td>150.000000</td>\n",
       "      <td>150.000000</td>\n",
       "      <td>150.000000</td>\n",
       "    </tr>\n",
       "    <tr>\n",
       "      <th>mean</th>\n",
       "      <td>5.843333</td>\n",
       "      <td>3.057333</td>\n",
       "      <td>3.758000</td>\n",
       "      <td>1.199333</td>\n",
       "    </tr>\n",
       "    <tr>\n",
       "      <th>std</th>\n",
       "      <td>0.828066</td>\n",
       "      <td>0.435866</td>\n",
       "      <td>1.765298</td>\n",
       "      <td>0.762238</td>\n",
       "    </tr>\n",
       "    <tr>\n",
       "      <th>min</th>\n",
       "      <td>4.300000</td>\n",
       "      <td>2.000000</td>\n",
       "      <td>1.000000</td>\n",
       "      <td>0.100000</td>\n",
       "    </tr>\n",
       "    <tr>\n",
       "      <th>25%</th>\n",
       "      <td>5.100000</td>\n",
       "      <td>2.800000</td>\n",
       "      <td>1.600000</td>\n",
       "      <td>0.300000</td>\n",
       "    </tr>\n",
       "    <tr>\n",
       "      <th>50%</th>\n",
       "      <td>5.800000</td>\n",
       "      <td>3.000000</td>\n",
       "      <td>4.350000</td>\n",
       "      <td>1.300000</td>\n",
       "    </tr>\n",
       "    <tr>\n",
       "      <th>75%</th>\n",
       "      <td>6.400000</td>\n",
       "      <td>3.300000</td>\n",
       "      <td>5.100000</td>\n",
       "      <td>1.800000</td>\n",
       "    </tr>\n",
       "    <tr>\n",
       "      <th>max</th>\n",
       "      <td>7.900000</td>\n",
       "      <td>4.400000</td>\n",
       "      <td>6.900000</td>\n",
       "      <td>2.500000</td>\n",
       "    </tr>\n",
       "  </tbody>\n",
       "</table>\n",
       "</div>"
      ],
      "text/plain": [
       "       sepal length (cm)  sepal width (cm)  petal length (cm)  \\\n",
       "count         150.000000        150.000000         150.000000   \n",
       "mean            5.843333          3.057333           3.758000   \n",
       "std             0.828066          0.435866           1.765298   \n",
       "min             4.300000          2.000000           1.000000   \n",
       "25%             5.100000          2.800000           1.600000   \n",
       "50%             5.800000          3.000000           4.350000   \n",
       "75%             6.400000          3.300000           5.100000   \n",
       "max             7.900000          4.400000           6.900000   \n",
       "\n",
       "       petal width (cm)  \n",
       "count        150.000000  \n",
       "mean           1.199333  \n",
       "std            0.762238  \n",
       "min            0.100000  \n",
       "25%            0.300000  \n",
       "50%            1.300000  \n",
       "75%            1.800000  \n",
       "max            2.500000  "
      ]
     },
     "execution_count": 22,
     "metadata": {},
     "output_type": "execute_result"
    }
   ],
   "source": [
    "# Summary statistics\n",
    "df.describe(include=\"all\")"
   ]
  },
  {
   "cell_type": "code",
   "execution_count": 23,
   "metadata": {},
   "outputs": [
    {
     "data": {
      "text/plain": [
       "target\n",
       "0    50\n",
       "1    50\n",
       "2    50\n",
       "Name: count, dtype: int64"
      ]
     },
     "execution_count": 23,
     "metadata": {},
     "output_type": "execute_result"
    }
   ],
   "source": [
    "# Looks at class distribution\n",
    "y.value_counts()"
   ]
  },
  {
   "cell_type": "code",
   "execution_count": 24,
   "metadata": {},
   "outputs": [],
   "source": [
    "# Split off the test set: 20% of the dataset.\n",
    "dev_df, test_df, dev_y, test_y = train_test_split(df, y, train_size=0.8, stratify=y, random_state=4)"
   ]
  },
  {
   "cell_type": "code",
   "execution_count": 25,
   "metadata": {
    "scrolled": true
   },
   "outputs": [
    {
     "data": {
      "image/png": "[encoded data removed]",
      "text/plain": [
       "<Figure size 1000x500 with 1 Axes>"
      ]
     },
     "metadata": {},
     "output_type": "display_data"
    }
   ],
   "source": [
    "# Plot two of the features and the class label\n",
    "\n",
    "plengths = df[\"petal length (cm)\"]\n",
    "pwidths = df[\"petal width (cm)\"]\n",
    "\n",
    "fig = plt.figure(figsize=(10,5))\n",
    "plt.title(\"Petal width against petal length\")\n",
    "plt.scatter(plengths[y==0], pwidths[y==0], color = \"green\")\n",
    "plt.scatter(plengths[y==1], pwidths[y==1], color = \"red\")\n",
    "plt.scatter(plengths[y==2], pwidths[y==2], color = \"purple\")\n",
    "plt.xlabel(\"Petal length (cm)\")\n",
    "plt.xlim(0, 8)\n",
    "plt.ylabel(\"Petal width (cm)\")\n",
    "plt.ylim(0, 3)\n",
    "plt.show()"
   ]
  },
  {
   "cell_type": "code",
   "execution_count": 26,
   "metadata": {},
   "outputs": [],
   "source": [
    "# What do you notice from the diagram? "
   ]
  },
  {
   "cell_type": "code",
   "execution_count": 27,
   "metadata": {},
   "outputs": [],
   "source": [
    "# Create the preprocessor\n",
    "preprocessor = ColumnTransformer([\n",
    "        (\"scaler\", StandardScaler(), df.columns)],\n",
    "        remainder=\"drop\")"
   ]
  },
  {
   "cell_type": "code",
   "execution_count": 28,
   "metadata": {},
   "outputs": [],
   "source": [
    "# We don't need a majority-class classifier.\n",
    "# We know that predicting one class all the time will get 1/3 correct.\n",
    "# This is our baseline. We need to do better than this!"
   ]
  },
  {
   "cell_type": "code",
   "execution_count": 29,
   "metadata": {},
   "outputs": [],
   "source": [
    "# This time we'll compare different kinds of Logistic Regression - without and with L2 regularization\n",
    "# - Multinomial Logistic Regression\n",
    "# - Multinomial Logistic Regression with L2-regularization"
   ]
  },
  {
   "cell_type": "code",
   "execution_count": 30,
   "metadata": {},
   "outputs": [
    {
     "data": {
      "text/plain": [
       "np.float64(0.975)"
      ]
     },
     "execution_count": 30,
     "metadata": {},
     "output_type": "execute_result"
    }
   ],
   "source": [
    "# Create a pipeline that combines the preprocessor with logistic regression with no regularization\n",
    "logistic = Pipeline([\n",
    "    (\"preprocessor\", preprocessor),\n",
    "    (\"predictor\", LogisticRegression(penalty=None))])\n",
    "\n",
    "# We don't need a grid search because we're not regularizing, so we don't have that hyperparameter.\n",
    "\n",
    "# Get the validation error\n",
    "np.mean(cross_val_score(logistic, dev_df, dev_y, scoring=\"accuracy\", cv=10))"
   ]
  },
  {
   "cell_type": "code",
   "execution_count": 31,
   "metadata": {},
   "outputs": [
    {
     "data": {
      "text/plain": [
       "({'predictor__C': 0.3}, np.float64(0.9416666666666667))"
      ]
     },
     "execution_count": 31,
     "metadata": {},
     "output_type": "execute_result"
    }
   ],
   "source": [
    "# Create a pipeline that combines the preprocessor with logistic regression with L2-regularization\n",
    "logisticL2 = Pipeline([\n",
    "    (\"preprocessor\", preprocessor),\n",
    "    (\"predictor\", LogisticRegression(solver=\"saga\", penalty=\"l2\"))])\n",
    "\n",
    "# Create a dictionary of hyperparameters for ridge regression\n",
    "logisticL2_param_grid = {\"predictor__C\": [0.1, 0.3, 0.5],}\n",
    "\n",
    "# Create the grid search object which will find the best hyperparameter values based on validation error\n",
    "logisticL2_gs = GridSearchCV(logisticL2, logisticL2_param_grid, scoring=\"accuracy\", cv=10, refit=True)\n",
    "\n",
    "# Run grid search by calling fit. It will also re-train on train+validation using the best parameters.\n",
    "logisticL2_gs.fit(dev_df, dev_y)\n",
    "\n",
    "# Let's see how well we did\n",
    "logisticL2_gs.best_params_, logisticL2_gs.best_score_"
   ]
  },
  {
   "cell_type": "code",
   "execution_count": 32,
   "metadata": {},
   "outputs": [
    {
     "data": {
      "text/plain": [
       "0.9333333333333333"
      ]
     },
     "execution_count": 32,
     "metadata": {},
     "output_type": "execute_result"
    }
   ],
   "source": [
    "# Let's pick plain Logistic Regression with no regularization.\n",
    "\n",
    "# Re-train it on train+validation and test on the test set\n",
    "\n",
    "logistic.fit(dev_df, dev_y)\n",
    "accuracy_score(test_y, logistic.predict(test_df))"
   ]
  },
  {
   "cell_type": "code",
   "execution_count": 33,
   "metadata": {},
   "outputs": [],
   "source": [
    "# Now decide whether to deploy.\n",
    "# If yes, then train on the entire dataset (not shown)."
   ]
  },
  {
   "cell_type": "markdown",
   "metadata": {},
   "source": [
    "<ul>\n",
    "    <li>For those of you whose machine learning work is not confined to this module, I recommend this paper, which\n",
    "        (happily) agrees with everything I've taught you and even goes a bit further:<br />\n",
    "        Michael A. Lones (2021): <i>How to avoid machine learning pitfalls: a guide for academic researchers</i>.\n",
    "        <a href=\"https://arxiv.org/abs/2108.02497\">https://arxiv.org/abs/2108.02497</a>\n",
    "</ul>"
   ]
  },
  {
   "cell_type": "code",
   "execution_count": null,
   "metadata": {},
   "outputs": [],
   "source": []
  }
 ],
 "metadata": {
  "celltoolbar": "Slideshow",
  "kernelspec": {
   "display_name": "Python 3 (ipykernel)",
   "language": "python",
   "name": "python3"
  },
  "language_info": {
   "codemirror_mode": {
    "name": "ipython",
    "version": 3
   },
   "file_extension": ".py",
   "mimetype": "text/x-python",
   "name": "python",
   "nbconvert_exporter": "python",
   "pygments_lexer": "ipython3",
   "version": "3.12.4"
  }
 },
 "nbformat": 4,
 "nbformat_minor": 4
}
