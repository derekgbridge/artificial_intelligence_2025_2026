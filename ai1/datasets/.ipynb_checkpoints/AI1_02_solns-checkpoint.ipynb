{
 "cells": [
  {
   "cell_type": "markdown",
   "metadata": {},
   "source": [
    "<h1>02 Pandas</h1>\n",
    "$\\newcommand{\\Set}[1]{\\{#1\\}}$ \n",
    "$\\newcommand{\\Tuple}[1]{\\langle#1\\rangle}$ \n",
    "$\\newcommand{\\v}[1]{\\pmb{#1}}$ \n",
    "$\\newcommand{\\cv}[1]{\\begin{bmatrix}#1\\end{bmatrix}}$ \n",
    "$\\newcommand{\\rv}[1]{[#1]}$ \n",
    "$\\DeclareMathOperator{\\argmax}{arg\\,max}$ \n",
    "$\\DeclareMathOperator{\\argmin}{arg\\,min}$ \n",
    "$\\DeclareMathOperator{\\dist}{dist}$\n",
    "$\\DeclareMathOperator{\\abs}{abs}$"
   ]
  },
  {
   "cell_type": "code",
   "execution_count": 1,
   "metadata": {},
   "outputs": [],
   "source": [
    "%load_ext autoreload\n",
    "%autoreload 2\n",
    "%matplotlib inline"
   ]
  },
  {
   "cell_type": "code",
   "execution_count": 2,
   "metadata": {},
   "outputs": [],
   "source": [
    "import pandas as pd\n",
    "import numpy as np\n",
    "import matplotlib.pyplot as plt"
   ]
  },
  {
   "cell_type": "markdown",
   "metadata": {},
   "source": [
    "<h1>Possible solution</h1>"
   ]
  },
  {
   "cell_type": "code",
   "execution_count": 3,
   "metadata": {},
   "outputs": [],
   "source": [
    "df = pd.read_csv('../datasets/dataset_stop_and_searchB.csv')"
   ]
  },
  {
   "cell_type": "code",
   "execution_count": 4,
   "metadata": {},
   "outputs": [
    {
     "data": {
      "text/plain": [
       "(169427, 6)"
      ]
     },
     "execution_count": 4,
     "metadata": {},
     "output_type": "execute_result"
    }
   ],
   "source": [
    "df.shape"
   ]
  },
  {
   "cell_type": "code",
   "execution_count": 6,
   "metadata": {},
   "outputs": [
    {
     "data": {
      "text/plain": [
       "9"
      ]
     },
     "execution_count": 6,
     "metadata": {},
     "output_type": "execute_result"
    }
   ],
   "source": [
    "(df['Gender'] == 'Gender').sum()"
   ]
  },
  {
   "cell_type": "code",
   "execution_count": 8,
   "metadata": {},
   "outputs": [],
   "source": [
    "df = df[df['Gender'] != 'Gender'].copy()"
   ]
  },
  {
   "cell_type": "code",
   "execution_count": 10,
   "metadata": {},
   "outputs": [
    {
     "data": {
      "text/plain": [
       "(169418, 6)"
      ]
     },
     "execution_count": 10,
     "metadata": {},
     "output_type": "execute_result"
    }
   ],
   "source": [
    "df.shape"
   ]
  },
  {
   "cell_type": "code",
   "execution_count": 12,
   "metadata": {},
   "outputs": [],
   "source": [
    "df.to_csv(\"tmp.csv\", index=False)"
   ]
  },
  {
   "cell_type": "code",
   "execution_count": 14,
   "metadata": {},
   "outputs": [
    {
     "data": {
      "text/plain": [
       "163879"
      ]
     },
     "execution_count": 14,
     "metadata": {},
     "output_type": "execute_result"
    }
   ],
   "source": [
    "df.duplicated().sum()"
   ]
  },
  {
   "cell_type": "code",
   "execution_count": 15,
   "metadata": {},
   "outputs": [
    {
     "data": {
      "text/plain": [
       "18825.222222222223"
      ]
     },
     "execution_count": 15,
     "metadata": {},
     "output_type": "execute_result"
    }
   ],
   "source": [
    "169427/9"
   ]
  },
  {
   "cell_type": "markdown",
   "metadata": {},
   "source": [
    "<p>\n",
    "    First I want to look at the Suspect-ethnicities.\n",
    "</p>"
   ]
  },
  {
   "cell_type": "code",
   "execution_count": 5,
   "metadata": {},
   "outputs": [
    {
     "data": {
      "text/plain": [
       "array(['Other ethnic group - Not stated',\n",
       "       'White - Any other White background',\n",
       "       'Asian/Asian British - Indian',\n",
       "       'Other ethnic group - Any other ethnic group',\n",
       "       'Black/African/Caribbean/Black British - Any other Black/African/Caribbean background',\n",
       "       'Black/African/Caribbean/Black British - African',\n",
       "       'Black/African/Caribbean/Black British - Caribbean',\n",
       "       'Mixed/Multiple ethnic groups - White and Black African',\n",
       "       'White - English/Welsh/Scottish/Northern Irish/British',\n",
       "       'Asian/Asian British - Any other Asian background',\n",
       "       'Mixed/Multiple ethnic groups - Any other Mixed/Multiple ethnic background',\n",
       "       'Asian/Asian British - Bangladeshi',\n",
       "       'Asian/Asian British - Pakistani',\n",
       "       'Mixed/Multiple ethnic groups - White and Black Caribbean', nan,\n",
       "       'White - Irish', 'Mixed/Multiple ethnic groups - White and Asian',\n",
       "       'Asian/Asian British - Chinese', 'Self-defined ethnicity'],\n",
       "      dtype=object)"
      ]
     },
     "execution_count": 5,
     "metadata": {},
     "output_type": "execute_result"
    }
   ],
   "source": [
    "df['Suspect-ethnicity'].unique()"
   ]
  },
  {
   "cell_type": "markdown",
   "metadata": {},
   "source": [
    "<p>\n",
    "    I can then define a mask for whiteness based on the above.\n",
    "</p"
   ]
  },
  {
   "cell_type": "code",
   "execution_count": 6,
   "metadata": {},
   "outputs": [],
   "source": [
    "race_white = (df['Suspect-ethnicity'] == 'White - English/Welsh/Scottish/Northern Irish/British') | \\\n",
    "    (df['Suspect-ethnicity'] == 'White - Any other White background') | \\\n",
    "    (df['Suspect-ethnicity'] == 'White - Irish')"
   ]
  },
  {
   "cell_type": "code",
   "execution_count": 7,
   "metadata": {},
   "outputs": [
    {
     "data": {
      "text/plain": [
       "0         False\n",
       "1         False\n",
       "2         False\n",
       "3         False\n",
       "4         False\n",
       "          ...  \n",
       "169422    False\n",
       "169423    False\n",
       "169424    False\n",
       "169425    False\n",
       "169426    False\n",
       "Name: Suspect-ethnicity, Length: 169427, dtype: bool"
      ]
     },
     "execution_count": 7,
     "metadata": {},
     "output_type": "execute_result"
    }
   ],
   "source": [
    "race_white"
   ]
  },
  {
   "cell_type": "markdown",
   "metadata": {},
   "source": [
    "<p>\n",
    "    So it is now easy to find out how many whites there are.\n",
    "</p>"
   ]
  },
  {
   "cell_type": "code",
   "execution_count": 8,
   "metadata": {},
   "outputs": [
    {
     "data": {
      "text/plain": [
       "52039"
      ]
     },
     "execution_count": 8,
     "metadata": {},
     "output_type": "execute_result"
    }
   ],
   "source": [
    "race_white.sum()"
   ]
  },
  {
   "cell_type": "markdown",
   "metadata": {},
   "source": [
    "<p>\n",
    "    I can divide this by the number of rows, to find out the % of stop-and-searches are of white people.\n",
    "    But, in fact, the total includes some people whose ethnicity is not known.\n",
    "    So, let's count the number of rows, but excluding those.\n",
    "</p>"
   ]
  },
  {
   "cell_type": "code",
   "execution_count": 9,
   "metadata": {},
   "outputs": [],
   "source": [
    "race_known = (df['Suspect-ethnicity'] != 'Other ethnic group - Not stated') & \\\n",
    "   (~ df['Suspect-ethnicity'].isnull())"
   ]
  },
  {
   "cell_type": "code",
   "execution_count": 10,
   "metadata": {},
   "outputs": [
    {
     "data": {
      "text/plain": [
       "138300"
      ]
     },
     "execution_count": 10,
     "metadata": {},
     "output_type": "execute_result"
    }
   ],
   "source": [
    "race_known.sum()"
   ]
  },
  {
   "cell_type": "markdown",
   "metadata": {},
   "source": [
    "<p>\n",
    "    Now we can do the percentage.\n",
    "</p>"
   ]
  },
  {
   "cell_type": "code",
   "execution_count": 11,
   "metadata": {},
   "outputs": [
    {
     "data": {
      "text/plain": [
       "37.62762111352133"
      ]
     },
     "execution_count": 11,
     "metadata": {},
     "output_type": "execute_result"
    }
   ],
   "source": [
    "race_white.sum() * 100 / race_known.sum()"
   ]
  },
  {
   "cell_type": "markdown",
   "metadata": {},
   "source": [
    "<p>\n",
    "    According to Wikipedia, the UK 2011 census had 81.9% of the population as white. According to https://www.indexmundi.com/united_kingdom/demographics_profile.html, it is 87.2%. According to https://en.wikipedia.org/wiki/Ethnic_groups_in_London, the 2011 census had 59.8% white in London.\n",
    "</p>\n",
    "<p>\n",
    "    So somewhere between 60% and 87% of stops-and-searches should be white people. But only 38% are.\n",
    "    Therefore, the Metropolitan Police are racist.\n",
    "</p>"
   ]
  },
  {
   "cell_type": "markdown",
   "metadata": {},
   "source": [
    "<p>\n",
    "    What caveats would you place on your answer?\n",
    "</p>"
   ]
  },
  {
   "cell_type": "markdown",
   "metadata": {},
   "source": [
    "<p>\n",
    "    We have made certain decisions about the mixed races: this affects the results. If we had treated them\n",
    "    as white, it might look less stark.\n",
    "</p>\n",
    "<p>\n",
    "    Our data about London is old (2011); our newer data is not about London.\n",
    "</p>\n",
    "<p>\n",
    "    We could have broken it down by region.\n",
    "</p>\n",
    "<p>\n",
    "    We should exclude those who committed a crime. These were legitimate interventions...\n",
    "</p>\n",
    "<ul>\n",
    "    <li>Was the data sample (one year) representative? (Maybe there was something special about 2018/19)\n",
    "    </li>\n",
    "    <li>Are the %s we compared against correct? If there are fewer whites, then \n",
    "        there is no evidence of racism; if more whites, then there may even be an anti-white bias. \n",
    "        (Two of our figures are from 2011. The only recent figure is for the UK and not London.)\n",
    "    </li>\n",
    "    <li>What was the true situation with the people we ignored? We ignored 169427 - 138300 = 31,127! How would they change\n",
    "        things?\n",
    "    </li>\n",
    "    <li>Were we right to treat just three categories as white. If we had treated more as white, then white\n",
    "        stop-and-searches might rise.\n",
    "    </li>\n",
    "</ul>"
   ]
  },
  {
   "cell_type": "code",
   "execution_count": null,
   "metadata": {},
   "outputs": [],
   "source": [
    "df['Outcome'].unique()"
   ]
  },
  {
   "cell_type": "code",
   "execution_count": null,
   "metadata": {},
   "outputs": [],
   "source": [
    "unnec = df[df['Outcome'] == 'A no further action disposal'].copy()\n",
    "race_white = (unnec['Suspect-ethnicity'] == 'White - English/Welsh/Scottish/Northern Irish/British') | \\\n",
    "    (unnec['Suspect-ethnicity'] == 'White - Any other White background') | \\\n",
    "    (unnec['Suspect-ethnicity'] == 'White - Irish')\n",
    "race_known = (unnec['Suspect-ethnicity'] != 'Other ethnic group - Not stated') & \\\n",
    "   (~ unnec['Suspect-ethnicity'].isnull())"
   ]
  },
  {
   "cell_type": "code",
   "execution_count": null,
   "metadata": {},
   "outputs": [],
   "source": [
    "race_white.sum() * 100 / race_known.sum()"
   ]
  },
  {
   "cell_type": "markdown",
   "metadata": {},
   "source": [
    "<p>\n",
    "    No difference!\n",
    "</p>"
   ]
  },
  {
   "cell_type": "code",
   "execution_count": null,
   "metadata": {},
   "outputs": [],
   "source": []
  }
 ],
 "metadata": {
  "kernelspec": {
   "display_name": "Python 3 (ipykernel)",
   "language": "python",
   "name": "python3"
  },
  "language_info": {
   "codemirror_mode": {
    "name": "ipython",
    "version": 3
   },
   "file_extension": ".py",
   "mimetype": "text/x-python",
   "name": "python",
   "nbconvert_exporter": "python",
   "pygments_lexer": "ipython3",
   "version": "3.10.5"
  }
 },
 "nbformat": 4,
 "nbformat_minor": 1
}
